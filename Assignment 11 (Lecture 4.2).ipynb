{
 "cells": [
  {
   "cell_type": "markdown",
   "id": "af8299b7",
   "metadata": {},
   "source": [
    "#### Read the question carefully. Download the dataset from the assignement section and then perform the following operation."
   ]
  },
  {
   "cell_type": "markdown",
   "id": "fbfd7226",
   "metadata": {},
   "source": [
    "1. Import the dirtydata data set. Perform quality assesment on the data set.\n",
    "\n",
    "2. Fill the missing value of the data set by mean(), median() and mode()\n",
    "\n",
    "3. Import data \"kerala\" data set and perform quality assesment on it.\n",
    "\n",
    "4. Perform data cleaning operation on the data set."
   ]
  },
  {
   "cell_type": "code",
   "execution_count": null,
   "id": "6d5ecba0",
   "metadata": {},
   "outputs": [],
   "source": []
  }
 ],
 "metadata": {
  "kernelspec": {
   "display_name": "Python 3",
   "language": "python",
   "name": "python3"
  },
  "language_info": {
   "codemirror_mode": {
    "name": "ipython",
    "version": 3
   },
   "file_extension": ".py",
   "mimetype": "text/x-python",
   "name": "python",
   "nbconvert_exporter": "python",
   "pygments_lexer": "ipython3",
   "version": "3.8.8"
  }
 },
 "nbformat": 4,
 "nbformat_minor": 5
}
