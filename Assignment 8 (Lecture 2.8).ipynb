{
 "cells": [
  {
   "cell_type": "markdown",
   "id": "f1f74d79",
   "metadata": {},
   "source": [
    "## Assignment on Function"
   ]
  },
  {
   "cell_type": "markdown",
   "id": "0e9bb778",
   "metadata": {},
   "source": [
    "1. Write python codes that shows the arithmatic operations using function."
   ]
  },
  {
   "cell_type": "code",
   "execution_count": null,
   "id": "fa49aafd",
   "metadata": {},
   "outputs": [],
   "source": []
  },
  {
   "cell_type": "markdown",
   "id": "0649b312",
   "metadata": {},
   "source": [
    "2. Find the largest number from three numbers using function."
   ]
  },
  {
   "cell_type": "code",
   "execution_count": null,
   "id": "dd2d2c75",
   "metadata": {},
   "outputs": [],
   "source": []
  },
  {
   "cell_type": "markdown",
   "id": "495111e4",
   "metadata": {},
   "source": [
    "3. Write a Python function to sum all the numbers in a list."
   ]
  },
  {
   "cell_type": "code",
   "execution_count": null,
   "id": "8860e3c2",
   "metadata": {},
   "outputs": [],
   "source": []
  },
  {
   "cell_type": "markdown",
   "id": "80633f40",
   "metadata": {},
   "source": [
    "4. Find a number is prime or not using function."
   ]
  },
  {
   "cell_type": "code",
   "execution_count": null,
   "id": "d9357a50",
   "metadata": {},
   "outputs": [],
   "source": []
  },
  {
   "cell_type": "markdown",
   "id": "68153182",
   "metadata": {},
   "source": [
    "5. Take three list of different size and claculate the sum of the list using one function."
   ]
  },
  {
   "cell_type": "code",
   "execution_count": null,
   "id": "8db81529",
   "metadata": {},
   "outputs": [],
   "source": []
  },
  {
   "cell_type": "markdown",
   "id": "05fe0b08",
   "metadata": {},
   "source": [
    "6. Write a Python function that checks whether a passed string is palindrome or not."
   ]
  },
  {
   "cell_type": "code",
   "execution_count": null,
   "id": "1311123e",
   "metadata": {},
   "outputs": [],
   "source": []
  },
  {
   "cell_type": "markdown",
   "id": "9161764d",
   "metadata": {},
   "source": [
    "7. Write a Python function to calculate the factorial of a number (a non-negative integer). The function accepts the number as an argument."
   ]
  },
  {
   "cell_type": "code",
   "execution_count": null,
   "id": "81b49718",
   "metadata": {},
   "outputs": [],
   "source": []
  },
  {
   "cell_type": "markdown",
   "id": "eeeaef47",
   "metadata": {},
   "source": [
    "8. Create a function showEmployee() in such a way that it should accept employee name, and its salary and display both. Use dictionary in here."
   ]
  },
  {
   "cell_type": "code",
   "execution_count": null,
   "id": "b9a545cc",
   "metadata": {},
   "outputs": [],
   "source": []
  },
  {
   "cell_type": "markdown",
   "id": "9700ad35",
   "metadata": {},
   "source": [
    "9. Write a python function that can seperate the even and odd numbers from a list."
   ]
  },
  {
   "cell_type": "code",
   "execution_count": null,
   "id": "8b3f75ce",
   "metadata": {},
   "outputs": [],
   "source": []
  },
  {
   "cell_type": "markdown",
   "id": "b3f549df",
   "metadata": {},
   "source": [
    "10. Write two different functions that show the operation of *args and *kwargs argument."
   ]
  },
  {
   "cell_type": "code",
   "execution_count": null,
   "id": "9a646657",
   "metadata": {},
   "outputs": [],
   "source": []
  }
 ],
 "metadata": {
  "kernelspec": {
   "display_name": "Python 3",
   "language": "python",
   "name": "python3"
  },
  "language_info": {
   "codemirror_mode": {
    "name": "ipython",
    "version": 3
   },
   "file_extension": ".py",
   "mimetype": "text/x-python",
   "name": "python",
   "nbconvert_exporter": "python",
   "pygments_lexer": "ipython3",
   "version": "3.8.8"
  }
 },
 "nbformat": 4,
 "nbformat_minor": 5
}
