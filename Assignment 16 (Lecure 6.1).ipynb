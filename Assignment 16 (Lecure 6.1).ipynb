{
 "cells": [
  {
   "cell_type": "markdown",
   "id": "ace1e1f6",
   "metadata": {},
   "source": [
    "### Assignment 16"
   ]
  },
  {
   "cell_type": "markdown",
   "id": "c27ca96c",
   "metadata": {},
   "source": [
    "1. Invistigate project_data.csv\n",
    "\n",
    "2. Apply Linear regression in the dataset for predicting the temperature, humidity, windflow \n",
    "\n",
    "3. Apply Liner regression to predict wheat, banana, tobaco, Ground Nut production prediction"
   ]
  },
  {
   "cell_type": "code",
   "execution_count": null,
   "id": "7aa5d59f",
   "metadata": {},
   "outputs": [],
   "source": [
    "Datas"
   ]
  }
 ],
 "metadata": {
  "kernelspec": {
   "display_name": "Python 3",
   "language": "python",
   "name": "python3"
  },
  "language_info": {
   "codemirror_mode": {
    "name": "ipython",
    "version": 3
   },
   "file_extension": ".py",
   "mimetype": "text/x-python",
   "name": "python",
   "nbconvert_exporter": "python",
   "pygments_lexer": "ipython3",
   "version": "3.8.8"
  }
 },
 "nbformat": 4,
 "nbformat_minor": 5
}
