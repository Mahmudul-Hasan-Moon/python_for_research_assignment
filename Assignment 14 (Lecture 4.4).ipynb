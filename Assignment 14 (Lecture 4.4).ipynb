{
 "cells": [
  {
   "cell_type": "markdown",
   "id": "cb6f0dae",
   "metadata": {},
   "source": [
    "#### Assignemnt 14"
   ]
  },
  {
   "cell_type": "markdown",
   "id": "e78338e0",
   "metadata": {},
   "source": [
    "1. Consider the dataset 'Lecture 4.4 dataset.csv' and perform 3 types of correlation with heat map\n",
    "\n",
    "2. Find the standard deviation, variance and mean of the dataset"
   ]
  },
  {
   "cell_type": "code",
   "execution_count": null,
   "id": "afc51bce",
   "metadata": {},
   "outputs": [],
   "source": []
  }
 ],
 "metadata": {
  "kernelspec": {
   "display_name": "Python 3",
   "language": "python",
   "name": "python3"
  },
  "language_info": {
   "codemirror_mode": {
    "name": "ipython",
    "version": 3
   },
   "file_extension": ".py",
   "mimetype": "text/x-python",
   "name": "python",
   "nbconvert_exporter": "python",
   "pygments_lexer": "ipython3",
   "version": "3.8.8"
  }
 },
 "nbformat": 4,
 "nbformat_minor": 5
}
