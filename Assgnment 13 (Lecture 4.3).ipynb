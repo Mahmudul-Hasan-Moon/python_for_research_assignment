{
 "cells": [
  {
   "cell_type": "markdown",
   "id": "f6a6b35d",
   "metadata": {},
   "source": [
    "### Perform the remaining data transformation techniques that i discusses in the theoritical section. "
   ]
  },
  {
   "cell_type": "markdown",
   "id": "ebfd7e26",
   "metadata": {},
   "source": [
    "1. Dummy Encoding\n",
    "\n",
    "2. Effect Encoding\n",
    "\n",
    "3. Binary Encoding\n",
    "\n",
    "4. BaseN Encoding\n",
    "\n",
    "5. Hash Encoding\n",
    "\n",
    "6. Target Encoding\n"
   ]
  },
  {
   "cell_type": "code",
   "execution_count": null,
   "id": "be585fc8",
   "metadata": {},
   "outputs": [],
   "source": []
  }
 ],
 "metadata": {
  "kernelspec": {
   "display_name": "Python 3",
   "language": "python",
   "name": "python3"
  },
  "language_info": {
   "codemirror_mode": {
    "name": "ipython",
    "version": 3
   },
   "file_extension": ".py",
   "mimetype": "text/x-python",
   "name": "python",
   "nbconvert_exporter": "python",
   "pygments_lexer": "ipython3",
   "version": "3.8.8"
  }
 },
 "nbformat": 4,
 "nbformat_minor": 5
}
