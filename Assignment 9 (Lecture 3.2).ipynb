{
 "cells": [
  {
   "cell_type": "markdown",
   "id": "6ce92a0f",
   "metadata": {},
   "source": [
    "### Please Read the Question carefully and write the code."
   ]
  },
  {
   "cell_type": "markdown",
   "id": "9523b4cb",
   "metadata": {},
   "source": [
    "1. Input a List from user and convert the list to a numpy array."
   ]
  },
  {
   "cell_type": "code",
   "execution_count": null,
   "id": "f63f5459",
   "metadata": {},
   "outputs": [],
   "source": []
  },
  {
   "cell_type": "markdown",
   "id": "b39cd82c",
   "metadata": {},
   "source": [
    "2. Create a 4 X 4 identity matrix using numpy and reshape it into 8 X 2 if possible."
   ]
  },
  {
   "cell_type": "code",
   "execution_count": null,
   "id": "28a2db31",
   "metadata": {},
   "outputs": [],
   "source": []
  },
  {
   "cell_type": "markdown",
   "id": "abd2bde5",
   "metadata": {},
   "source": [
    "3. Create two numpy array and perform arithmetic operation on it."
   ]
  },
  {
   "cell_type": "code",
   "execution_count": null,
   "id": "80937d21",
   "metadata": {},
   "outputs": [],
   "source": []
  },
  {
   "cell_type": "markdown",
   "id": "9c74474e",
   "metadata": {},
   "source": [
    "4. Find the elements that are multiple of 3 as well as divisable by 5 from a numpy array."
   ]
  },
  {
   "cell_type": "code",
   "execution_count": null,
   "id": "e830b8f5",
   "metadata": {},
   "outputs": [],
   "source": []
  },
  {
   "cell_type": "markdown",
   "id": "ba725b43",
   "metadata": {},
   "source": [
    "5. Create a new array from a given array, swapping first and last, second and third columns"
   ]
  },
  {
   "cell_type": "code",
   "execution_count": null,
   "id": "827ed2cb",
   "metadata": {},
   "outputs": [],
   "source": []
  },
  {
   "cell_type": "markdown",
   "id": "700a4799",
   "metadata": {},
   "source": [
    "6. Multiply a 4x3 matrix by a 3x3 matrix (first check the multipication is possible or not)"
   ]
  },
  {
   "cell_type": "code",
   "execution_count": null,
   "id": "0685dc59",
   "metadata": {},
   "outputs": [],
   "source": []
  },
  {
   "cell_type": "markdown",
   "id": "bda1a65c",
   "metadata": {},
   "source": [
    "7. Create a 6 X 6 matrix and cut the lower 3 X 3 matrix from the biggest one."
   ]
  },
  {
   "cell_type": "code",
   "execution_count": null,
   "id": "27bc5deb",
   "metadata": {},
   "outputs": [],
   "source": []
  },
  {
   "cell_type": "markdown",
   "id": "7edecfdf",
   "metadata": {},
   "source": [
    "8. Take a 2D numpy array and sort it in assending and dissending order."
   ]
  },
  {
   "cell_type": "code",
   "execution_count": null,
   "id": "98170a22",
   "metadata": {},
   "outputs": [],
   "source": []
  },
  {
   "cell_type": "markdown",
   "id": "f6f688a5",
   "metadata": {},
   "source": [
    "9. Convert a Python dictionary to Numpy array."
   ]
  },
  {
   "cell_type": "code",
   "execution_count": null,
   "id": "da5ff7f0",
   "metadata": {},
   "outputs": [],
   "source": []
  },
  {
   "cell_type": "markdown",
   "id": "f8d818c6",
   "metadata": {},
   "source": [
    "10. Write a code that show all the numpy array generation procedure."
   ]
  },
  {
   "cell_type": "code",
   "execution_count": null,
   "id": "ebeb1cd5",
   "metadata": {},
   "outputs": [],
   "source": []
  }
 ],
 "metadata": {
  "kernelspec": {
   "display_name": "Python 3",
   "language": "python",
   "name": "python3"
  },
  "language_info": {
   "codemirror_mode": {
    "name": "ipython",
    "version": 3
   },
   "file_extension": ".py",
   "mimetype": "text/x-python",
   "name": "python",
   "nbconvert_exporter": "python",
   "pygments_lexer": "ipython3",
   "version": "3.8.8"
  }
 },
 "nbformat": 4,
 "nbformat_minor": 5
}
