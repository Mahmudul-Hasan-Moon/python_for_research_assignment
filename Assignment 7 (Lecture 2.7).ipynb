{
 "cells": [
  {
   "cell_type": "markdown",
   "id": "48101834",
   "metadata": {},
   "source": [
    "## Assignment on Data Structures"
   ]
  },
  {
   "cell_type": "markdown",
   "id": "b35ad75e",
   "metadata": {},
   "source": [
    "1. Create two list and append them and print the final list."
   ]
  },
  {
   "cell_type": "code",
   "execution_count": null,
   "id": "2e5e00ac",
   "metadata": {},
   "outputs": [],
   "source": []
  },
  {
   "cell_type": "markdown",
   "id": "29815f52",
   "metadata": {},
   "source": [
    "2. Create a list and find the largest number from the list."
   ]
  },
  {
   "cell_type": "code",
   "execution_count": null,
   "id": "4887e193",
   "metadata": {},
   "outputs": [],
   "source": []
  },
  {
   "cell_type": "markdown",
   "id": "ad77d115",
   "metadata": {},
   "source": [
    "3. Write a Python program to sum all the items in a list."
   ]
  },
  {
   "cell_type": "code",
   "execution_count": null,
   "id": "e9011a8d",
   "metadata": {},
   "outputs": [],
   "source": []
  },
  {
   "cell_type": "markdown",
   "id": "6253e408",
   "metadata": {},
   "source": [
    "4. Write a Python program to print a specified list after removing the 0th, 4th and 5th elements.\n",
    "\n",
    "    Sample List : ['Red', 'Green', 'White', 'Black', 'Pink', 'Yellow']\n",
    "        \n",
    "    Expected Output : ['Green', 'White', 'Black']"
   ]
  },
  {
   "cell_type": "code",
   "execution_count": null,
   "id": "1454e13b",
   "metadata": {},
   "outputs": [],
   "source": []
  },
  {
   "cell_type": "markdown",
   "id": "f22e3155",
   "metadata": {},
   "source": [
    "5.Write a Python program to add an item in a tuple."
   ]
  },
  {
   "cell_type": "code",
   "execution_count": null,
   "id": "7e053827",
   "metadata": {},
   "outputs": [],
   "source": []
  },
  {
   "cell_type": "markdown",
   "id": "e0f92a94",
   "metadata": {},
   "source": [
    "6. Write a Python program to reverse a tuple."
   ]
  },
  {
   "cell_type": "code",
   "execution_count": null,
   "id": "e1fa1fdd",
   "metadata": {},
   "outputs": [],
   "source": []
  },
  {
   "cell_type": "markdown",
   "id": "47e05439",
   "metadata": {},
   "source": [
    "7. Write a Python program to remove an item from a set if it is present in the set."
   ]
  },
  {
   "cell_type": "code",
   "execution_count": null,
   "id": "88c12495",
   "metadata": {},
   "outputs": [],
   "source": []
  },
  {
   "cell_type": "markdown",
   "id": "e5dd033d",
   "metadata": {},
   "source": [
    "8. Write a Python program to find maximum and the minimum value in a set."
   ]
  },
  {
   "cell_type": "code",
   "execution_count": null,
   "id": "e355341f",
   "metadata": {},
   "outputs": [],
   "source": []
  },
  {
   "cell_type": "markdown",
   "id": "782c51b5",
   "metadata": {},
   "source": [
    "9. Write a Python script to merge two Python dictionaries."
   ]
  },
  {
   "cell_type": "code",
   "execution_count": null,
   "id": "fba3176e",
   "metadata": {},
   "outputs": [],
   "source": []
  },
  {
   "cell_type": "markdown",
   "id": "14bdd633",
   "metadata": {},
   "source": [
    "10. Write a Python code that convert a dictionary to two list of keys and values."
   ]
  },
  {
   "cell_type": "code",
   "execution_count": null,
   "id": "1f5fc7e3",
   "metadata": {},
   "outputs": [],
   "source": []
  }
 ],
 "metadata": {
  "kernelspec": {
   "display_name": "Python 3",
   "language": "python",
   "name": "python3"
  },
  "language_info": {
   "codemirror_mode": {
    "name": "ipython",
    "version": 3
   },
   "file_extension": ".py",
   "mimetype": "text/x-python",
   "name": "python",
   "nbconvert_exporter": "python",
   "pygments_lexer": "ipython3",
   "version": "3.8.8"
  }
 },
 "nbformat": 4,
 "nbformat_minor": 5
}
