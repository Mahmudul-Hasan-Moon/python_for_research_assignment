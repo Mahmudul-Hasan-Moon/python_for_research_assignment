{
 "cells": [
  {
   "cell_type": "markdown",
   "id": "4b8de32c",
   "metadata": {},
   "source": [
    "###### 1.   In the github Assignment section, you will get a data set named Assignment_10_data. Download the data and perform the following operation."
   ]
  },
  {
   "cell_type": "markdown",
   "id": "2eb9e166",
   "metadata": {},
   "source": [
    "1. import the data set\n",
    "\n",
    "2. Show the full data set using python pandas function.\n",
    "\n",
    "3. Create another data frame from given data set that contain only 2 columns. Also convert the data frame to CSV\n",
    "\n",
    "4. Find out number of null values of the given data sets and also show the mean and standard deviation.\n",
    "\n",
    "5. Create a data frame that contain the 51th to 120th row.\n",
    "\n",
    "6. Make a new dataset that you get from 5 no"
   ]
  },
  {
   "cell_type": "markdown",
   "id": "13f9ff08",
   "metadata": {},
   "source": [
    "###### 2. Create a data frame that contain Id, Name, Department, Result of minimum 5 persons. Then convert the data frame to a CSV file and excel file.\n"
   ]
  },
  {
   "cell_type": "code",
   "execution_count": null,
   "id": "cc901fd0",
   "metadata": {},
   "outputs": [],
   "source": []
  },
  {
   "cell_type": "markdown",
   "id": "6c3ae5a9",
   "metadata": {},
   "source": [
    "###### 3. Import the excel file and perform the operation that is given in the previous question."
   ]
  },
  {
   "cell_type": "code",
   "execution_count": null,
   "id": "6f28f4b7",
   "metadata": {},
   "outputs": [],
   "source": []
  }
 ],
 "metadata": {
  "kernelspec": {
   "display_name": "Python 3",
   "language": "python",
   "name": "python3"
  },
  "language_info": {
   "codemirror_mode": {
    "name": "ipython",
    "version": 3
   },
   "file_extension": ".py",
   "mimetype": "text/x-python",
   "name": "python",
   "nbconvert_exporter": "python",
   "pygments_lexer": "ipython3",
   "version": "3.8.8"
  }
 },
 "nbformat": 4,
 "nbformat_minor": 5
}
