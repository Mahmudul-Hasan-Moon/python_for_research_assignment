{
 "cells": [
  {
   "cell_type": "markdown",
   "id": "756b8317",
   "metadata": {},
   "source": [
    "###### Try to solve by yourself. You can use any combination of nested loop."
   ]
  },
  {
   "cell_type": "markdown",
   "id": "f714f34e",
   "metadata": {},
   "source": [
    "1. Print n to 1 for m times. Here, you need to take n and m as input."
   ]
  },
  {
   "cell_type": "code",
   "execution_count": null,
   "id": "d90c90cc",
   "metadata": {},
   "outputs": [],
   "source": []
  },
  {
   "cell_type": "markdown",
   "id": "b159aa77",
   "metadata": {},
   "source": [
    "2. print 1 to n and if find 5 then break"
   ]
  },
  {
   "cell_type": "code",
   "execution_count": null,
   "id": "8d2759d5",
   "metadata": {},
   "outputs": [],
   "source": []
  },
  {
   "cell_type": "markdown",
   "id": "585879d8",
   "metadata": {},
   "source": [
    "3. Take a string python and print it without o using control statements."
   ]
  },
  {
   "cell_type": "code",
   "execution_count": null,
   "id": "f7095639",
   "metadata": {},
   "outputs": [],
   "source": []
  },
  {
   "cell_type": "markdown",
   "id": "245443ed",
   "metadata": {},
   "source": [
    "4. print the following pattern\n",
    "\n",
    "1\n",
    "\n",
    "1 3\n",
    "\n",
    "1 3 5\n",
    "\n",
    "1 3 5 7\n",
    "\n",
    "1 3 5 7 9"
   ]
  },
  {
   "cell_type": "code",
   "execution_count": null,
   "id": "1be130a7",
   "metadata": {},
   "outputs": [],
   "source": []
  },
  {
   "cell_type": "markdown",
   "id": "dbd18fe9",
   "metadata": {},
   "source": [
    "5. Find akk the prime numbers from n to m"
   ]
  },
  {
   "cell_type": "code",
   "execution_count": null,
   "id": "1e12eb79",
   "metadata": {},
   "outputs": [],
   "source": []
  },
  {
   "cell_type": "code",
   "execution_count": null,
   "id": "a8adfe6b",
   "metadata": {},
   "outputs": [],
   "source": [
    "6. Print this pattern\n",
    "\n",
    "********\n",
    "*******\n",
    "******\n",
    "*****\n",
    "****\n",
    "***\n",
    "**\n",
    "*"
   ]
  },
  {
   "cell_type": "code",
   "execution_count": null,
   "id": "bf3f5450",
   "metadata": {},
   "outputs": [],
   "source": []
  },
  {
   "cell_type": "markdown",
   "id": "a9bd37c4",
   "metadata": {},
   "source": [
    "7. Calculate the sum of all odd numbers from 1 to n for 7 times and print the final sum."
   ]
  },
  {
   "cell_type": "code",
   "execution_count": null,
   "id": "7ae7f89d",
   "metadata": {},
   "outputs": [],
   "source": []
  },
  {
   "cell_type": "code",
   "execution_count": null,
   "id": "9bc9eb17",
   "metadata": {},
   "outputs": [],
   "source": [
    "8. Print this pattern\n",
    "\n",
    "      *\n",
    "     ***\n",
    "    *****\n",
    "   *******\n",
    "  *********"
   ]
  },
  {
   "cell_type": "code",
   "execution_count": null,
   "id": "9045c68b",
   "metadata": {},
   "outputs": [],
   "source": []
  },
  {
   "cell_type": "markdown",
   "id": "b107814d",
   "metadata": {},
   "source": [
    "9. Print the fibonocci series for better understand follow this video. (https://www.youtube.com/watch?v=NqlTqX_qWX8&list=PLXcgL_xgEnBFNR76r3TGYXVsAiQ0BE75C&index=51)"
   ]
  },
  {
   "cell_type": "code",
   "execution_count": null,
   "id": "9576af41",
   "metadata": {},
   "outputs": [],
   "source": []
  },
  {
   "cell_type": "markdown",
   "id": "241bb149",
   "metadata": {},
   "source": [
    "10. print this attern\n",
    "\n",
    "1\n",
    "\n",
    "2 2\n",
    "\n",
    "3 3 3\n",
    "\n",
    "4 4 4 4\n",
    "\n",
    "5 5 5 5 5\n",
    "\n",
    "6 6 6 6 6 6\n",
    "\n",
    "-----------\n",
    "-----------\n",
    "\n",
    "n n n n n ------- n\n"
   ]
  },
  {
   "cell_type": "code",
   "execution_count": null,
   "id": "b1d809a0",
   "metadata": {},
   "outputs": [],
   "source": []
  },
  {
   "cell_type": "markdown",
   "id": "36d1c64b",
   "metadata": {},
   "source": [
    "If ypu want to know more follow this playlist: (https://www.youtube.com/playlist?list=PLXcgL_xgEnBGIqCnRARK_V4Pt71UKNpmG)"
   ]
  }
 ],
 "metadata": {
  "kernelspec": {
   "display_name": "Python 3",
   "language": "python",
   "name": "python3"
  },
  "language_info": {
   "codemirror_mode": {
    "name": "ipython",
    "version": 3
   },
   "file_extension": ".py",
   "mimetype": "text/x-python",
   "name": "python",
   "nbconvert_exporter": "python",
   "pygments_lexer": "ipython3",
   "version": "3.8.8"
  }
 },
 "nbformat": 4,
 "nbformat_minor": 5
}
