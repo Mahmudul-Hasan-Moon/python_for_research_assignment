{
 "cells": [
  {
   "cell_type": "markdown",
   "id": "3642233c",
   "metadata": {},
   "source": [
    "### Assignment 15"
   ]
  },
  {
   "cell_type": "markdown",
   "id": "c01a6931",
   "metadata": {},
   "source": [
    "Download the dataset from the link: https://github.com/Mahmudul-Hasan-Moon/python_for_research_assignment\n",
    "        \n",
    "        1. Invistigate the dataset, find out the variable types, number of missing values and others.\n",
    "        \n",
    "        2. Handle the missing values\n",
    "        \n",
    "        3. Balance the dataset using the methods that discussed in lecture 4.5"
   ]
  },
  {
   "cell_type": "code",
   "execution_count": null,
   "id": "327cd32d",
   "metadata": {},
   "outputs": [],
   "source": []
  }
 ],
 "metadata": {
  "kernelspec": {
   "display_name": "Python 3",
   "language": "python",
   "name": "python3"
  },
  "language_info": {
   "codemirror_mode": {
    "name": "ipython",
    "version": 3
   },
   "file_extension": ".py",
   "mimetype": "text/x-python",
   "name": "python",
   "nbconvert_exporter": "python",
   "pygments_lexer": "ipython3",
   "version": "3.8.8"
  }
 },
 "nbformat": 4,
 "nbformat_minor": 5
}
