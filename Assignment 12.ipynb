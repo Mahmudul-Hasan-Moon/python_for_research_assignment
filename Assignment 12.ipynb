{
 "cells": [
  {
   "cell_type": "markdown",
   "id": "ac79e254",
   "metadata": {},
   "source": [
    "#### Please Read the statement carefully."
   ]
  },
  {
   "cell_type": "markdown",
   "id": "152da267",
   "metadata": {},
   "source": [
    "1. Design All the plot that are Design by Matplotlib using Seaborn. Please learn the syntex of seaborn from internet.\n",
    "\n",
    "2. Desigh Histogram, Bar plot, Scatter plot from a data set that is given in the github."
   ]
  },
  {
   "cell_type": "code",
   "execution_count": null,
   "id": "16604ad3",
   "metadata": {},
   "outputs": [],
   "source": []
  }
 ],
 "metadata": {
  "kernelspec": {
   "display_name": "Python 3",
   "language": "python",
   "name": "python3"
  },
  "language_info": {
   "codemirror_mode": {
    "name": "ipython",
    "version": 3
   },
   "file_extension": ".py",
   "mimetype": "text/x-python",
   "name": "python",
   "nbconvert_exporter": "python",
   "pygments_lexer": "ipython3",
   "version": "3.8.8"
  }
 },
 "nbformat": 4,
 "nbformat_minor": 5
}
